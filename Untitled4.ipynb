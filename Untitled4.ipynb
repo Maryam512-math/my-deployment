{
  "nbformat": 4,
  "nbformat_minor": 0,
  "metadata": {
    "colab": {
      "provenance": []
    },
    "kernelspec": {
      "name": "python3",
      "display_name": "Python 3"
    },
    "language_info": {
      "name": "python"
    }
  },
  "cells": [
    {
      "cell_type": "code",
      "execution_count": null,
      "metadata": {
        "id": "xi7BC9K0L1f5",
        "colab": {
          "base_uri": "https://localhost:8080/"
        },
        "outputId": "dc570b75-7edf-4035-b7c5-0f1791539da5"
      },
      "outputs": [
        {
          "output_type": "execute_result",
          "data": {
            "text/plain": [
              "['pipeline.pkl']"
            ]
          },
          "metadata": {},
          "execution_count": 36
        }
      ],
      "source": [
        "import pandas as pd\n",
        "import numpy as np\n",
        "from sklearn.model_selection import train_test_split\n",
        "from sklearn.preprocessing import StandardScaler, LabelEncoder, OneHotEncoder\n",
        "from sklearn.compose import ColumnTransformer\n",
        "from sklearn.pipeline import Pipeline\n",
        "from sklearn.metrics import accuracy_score, f1_score\n",
        "import joblib # Import joblib\n",
        "\n",
        "# Load and preprocess data\n",
        "data = pd.read_csv(\"/content/drive/MyDrive/CVD_cleaned.csv\")\n",
        "data.dropna(axis=1, inplace=True)\n",
        "\n",
        "# Encode target\n",
        "le = LabelEncoder()\n",
        "data['Heart_Disease'] = le.fit_transform(data['Heart_Disease'])\n",
        "\n",
        "X = data.drop('Heart_Disease', axis=1)\n",
        "y = data['Heart_Disease']\n",
        "\n",
        "# Identify categorical and numerical columns\n",
        "categorical_cols = X.select_dtypes(include='object').columns\n",
        "numerical_cols = X.select_dtypes(include=np.number).columns\n",
        "\n",
        "# Create preprocessing pipelines for numerical and categorical features\n",
        "numerical_transformer = StandardScaler()\n",
        "categorical_transformer = OneHotEncoder(handle_unknown='ignore')\n",
        "\n",
        "# Create a column transformer to apply different transformations to different columns\n",
        "preprocessor = ColumnTransformer(\n",
        "    transformers=[\n",
        "        ('num', numerical_transformer, numerical_cols),\n",
        "        ('cat', categorical_transformer, categorical_cols)])\n",
        "\n",
        "# Create a pipeline that first preprocesses the data and then scales it\n",
        "pipeline = Pipeline(steps=[('preprocessor', preprocessor)])\n",
        "\n",
        "\n",
        "# Train-test split\n",
        "X_train, X_test, y_train, y_test = train_test_split(X, y, test_size=0.2, random_state=42)\n",
        "\n",
        "# Apply preprocessing to training and testing data\n",
        "X_train_processed = pipeline.fit_transform(X_train)\n",
        "X_test_processed = pipeline.transform(X_test)\n",
        "\n",
        "# Save the pipeline\n",
        "joblib.dump(pipeline, \"pipeline.pkl\")"
      ]
    },
    {
      "cell_type": "code",
      "source": [
        "from sklearn.linear_model import LogisticRegression\n",
        "\n",
        "lr = LogisticRegression(max_iter=1000)\n",
        "lr.fit(X_train_processed, y_train)\n",
        "y_pred_lr = lr.predict(X_test_processed)\n",
        "\n",
        "print(\"Logistic Regression\")\n",
        "print(\"Accuracy:\", accuracy_score(y_test, y_pred_lr))\n",
        "print(\"F1 Score:\", f1_score(y_test, y_pred_lr, average='weighted'))"
      ],
      "metadata": {
        "colab": {
          "base_uri": "https://localhost:8080/"
        },
        "id": "c8fPazszL89H",
        "outputId": "b3b835d5-d482-4c4c-9cfd-d8ff4faf1280"
      },
      "execution_count": null,
      "outputs": [
        {
          "output_type": "stream",
          "name": "stdout",
          "text": [
            "Logistic Regression\n",
            "Accuracy: 0.9192177559048744\n",
            "F1 Score: 0.889279876451409\n"
          ]
        }
      ]
    },
    {
      "cell_type": "code",
      "source": [
        "import joblib\n",
        "\n",
        "# Save model\n",
        "joblib.dump(lr, \"logistic_regression_model.pkl\")"
      ],
      "metadata": {
        "colab": {
          "base_uri": "https://localhost:8080/"
        },
        "id": "DUw94TQvVCks",
        "outputId": "dae36ca7-0bc2-4eab-fb54-e483227fdb65"
      },
      "execution_count": null,
      "outputs": [
        {
          "output_type": "execute_result",
          "data": {
            "text/plain": [
              "['logistic_regression_model.pkl']"
            ]
          },
          "metadata": {},
          "execution_count": 42
        }
      ]
    },
    {
      "cell_type": "code",
      "source": [
        "from sklearn.metrics import classification_report\n",
        "\n",
        "# Print the classification report\n",
        "print(classification_report(y_test, y_pred_lr))"
      ],
      "metadata": {
        "colab": {
          "base_uri": "https://localhost:8080/"
        },
        "id": "rFk90FnSfPRd",
        "outputId": "58356386-7104-483b-c5e4-a468271713fb"
      },
      "execution_count": null,
      "outputs": [
        {
          "output_type": "stream",
          "name": "stdout",
          "text": [
            "              precision    recall  f1-score   support\n",
            "\n",
            "           0       0.92      0.99      0.96     56774\n",
            "           1       0.51      0.06      0.11      4997\n",
            "\n",
            "    accuracy                           0.92     61771\n",
            "   macro avg       0.71      0.53      0.53     61771\n",
            "weighted avg       0.89      0.92      0.89     61771\n",
            "\n"
          ]
        }
      ]
    },
    {
      "cell_type": "code",
      "source": [
        "from sklearn.metrics import confusion_matrix, ConfusionMatrixDisplay\n",
        "import matplotlib.pyplot as plt\n",
        "\n",
        "# Make predictions on the test set\n",
        "y_pred = lr.predict(X_test_processed)\n",
        "\n",
        "# Compute the confusion matrix\n",
        "cm = confusion_matrix(y_test, y_pred, labels=lr.classes_)\n",
        "\n",
        "# Create a ConfusionMatrixDisplay object\n",
        "disp = ConfusionMatrixDisplay(confusion_matrix=cm, display_labels=lr.classes_)\n",
        "\n",
        "# Plot the confusion matrix\n",
        "disp.plot()\n",
        "plt.show()"
      ],
      "metadata": {
        "colab": {
          "base_uri": "https://localhost:8080/",
          "height": 449
        },
        "id": "85vZjpY2jwMv",
        "outputId": "a3af81b5-9006-495b-afef-7a76866e9d59"
      },
      "execution_count": null,
      "outputs": [
        {
          "output_type": "display_data",
          "data": {
            "text/plain": [
              "<Figure size 640x480 with 2 Axes>"
            ],
            "image/png": "[encoded data removed]"
          },
          "metadata": {}
        }
      ]
    },
    {
      "cell_type": "code",
      "source": [
        "from sklearn.metrics import roc_curve, auc\n",
        "import matplotlib.pyplot as plt\n",
        "\n",
        "# Compute ROC curve and ROC area\n",
        "fpr_optimized, tpr_optimized, _ = roc_curve(y_test, y_pred)\n",
        "roc_auc_optimized = auc(fpr_optimized, tpr_optimized)\n",
        "\n",
        "# Plot ROC curve\n",
        "plt.figure()\n",
        "plt.plot(fpr_optimized, tpr_optimized, color='darkorange', lw=2, label='ROC curve (area = %0.2f)' % roc_auc_optimized)\n",
        "plt.plot([0, 1], [0, 1], color='navy', lw=2, linestyle='--')\n",
        "plt.xlim([0.0, 1.0])\n",
        "plt.ylim([0.0, 1.05])\n",
        "plt.xlabel('False Positive Rate')\n",
        "plt.ylabel('True Positive Rate')\n",
        "plt.title('Receiver Operating Characteristic')\n",
        "plt.legend(loc=\"lower right\")\n",
        "plt.show()"
      ],
      "metadata": {
        "colab": {
          "base_uri": "https://localhost:8080/",
          "height": 472
        },
        "id": "1mN8qbUWkGVr",
        "outputId": "43760d50-2bfe-47f0-c8cb-faa06b37c5dd"
      },
      "execution_count": null,
      "outputs": [
        {
          "output_type": "display_data",
          "data": {
            "text/plain": [
              "<Figure size 640x480 with 1 Axes>"
            ],
            "image/png": "[encoded data removed]"
          },
          "metadata": {}
        }
      ]
    },
    {
      "cell_type": "code",
      "source": [
        "from sklearn.ensemble import RandomForestClassifier\n",
        "\n",
        "rf = RandomForestClassifier()\n",
        "rf.fit(X_train_processed, y_train)\n",
        "y_pred_rf = rf.predict(X_test_processed)\n",
        "\n",
        "print(\"Random Forest\")\n",
        "print(\"Accuracy:\", accuracy_score(y_test, y_pred_rf))\n",
        "print(\"F1 Score:\", f1_score(y_test, y_pred_rf, average='weighted'))"
      ],
      "metadata": {
        "colab": {
          "base_uri": "https://localhost:8080/"
        },
        "id": "yr_-wBssL9Yj",
        "outputId": "f9f4cf8c-1df6-41de-c6d2-28ffa6442852"
      },
      "execution_count": null,
      "outputs": [
        {
          "output_type": "stream",
          "name": "stdout",
          "text": [
            "Random Forest\n",
            "Accuracy: 0.9180683492253646\n",
            "F1 Score: 0.8869513252984578\n"
          ]
        }
      ]
    },
    {
      "cell_type": "code",
      "source": [
        "joblib.dump(rf, \"random_forest_model.pkl\")"
      ],
      "metadata": {
        "colab": {
          "base_uri": "https://localhost:8080/"
        },
        "id": "GIgeoVZZWAnC",
        "outputId": "3778e963-7465-4082-8043-4ef6ff9c1ab1"
      },
      "execution_count": null,
      "outputs": [
        {
          "output_type": "execute_result",
          "data": {
            "text/plain": [
              "['random_forest_model.pkl']"
            ]
          },
          "metadata": {},
          "execution_count": 25
        }
      ]
    },
    {
      "cell_type": "code",
      "source": [
        "from sklearn.neighbors import KNeighborsClassifier\n",
        "\n",
        "knn = KNeighborsClassifier()\n",
        "knn.fit(X_train_processed, y_train)\n",
        "y_pred_knn = knn.predict(X_test_processed)\n",
        "\n",
        "print(\"KNN\")\n",
        "print(\"Accuracy:\", accuracy_score(y_test, y_pred_knn))\n",
        "print(\"F1 Score:\", f1_score(y_test, y_pred_knn, average='weighted'))"
      ],
      "metadata": {
        "colab": {
          "base_uri": "https://localhost:8080/"
        },
        "id": "mWEc_ZJNMGhT",
        "outputId": "97a5fdf5-48e0-4b49-b4ed-930455d55f1a"
      },
      "execution_count": null,
      "outputs": [
        {
          "output_type": "stream",
          "name": "stdout",
          "text": [
            "KNN\n",
            "Accuracy: 0.9101843907335158\n",
            "F1 Score: 0.8873443021475063\n"
          ]
        }
      ]
    },
    {
      "cell_type": "code",
      "source": [
        "from tensorflow.keras.models import Sequential\n",
        "from tensorflow.keras.layers import Dense, Dropout\n",
        "from tensorflow.keras.utils import to_categorical\n",
        "\n",
        "# Prepare labels for Keras\n",
        "num_classes = len(np.unique(y))\n",
        "y_train_cat = to_categorical(y_train, num_classes)\n",
        "y_test_cat = to_categorical(y_test, num_classes)\n",
        "\n",
        "model_dl = Sequential([\n",
        "    Dense(128, activation='relu', input_dim=X_train_processed.shape[1]),\n",
        "    Dropout(0.3),\n",
        "    Dense(64, activation='relu'),\n",
        "    Dropout(0.3),\n",
        "    Dense(num_classes, activation='softmax')\n",
        "])\n",
        "\n",
        "model_dl.compile(optimizer='adam', loss='categorical_crossentropy', metrics=['accuracy'])\n",
        "model_dl.fit(X_train_processed, y_train_cat, epochs=50, batch_size=16, verbose=1)\n",
        "\n",
        "y_pred_dl = model_dl.predict(X_test_processed).argmax(axis=1)\n",
        "\n",
        "print(\"Deep Learning\")\n",
        "print(\"Accuracy:\", accuracy_score(y_test, y_pred_dl))\n",
        "print(\"F1 Score:\", f1_score(y_test, y_pred_dl, average='weighted'))"
      ],
      "metadata": {
        "colab": {
          "base_uri": "https://localhost:8080/"
        },
        "id": "lH5XkSK7MMjN",
        "outputId": "d19f587b-cd27-46db-d75f-c47580c24ab5"
      },
      "execution_count": null,
      "outputs": [
        {
          "output_type": "stream",
          "name": "stdout",
          "text": [
            "Epoch 1/50\n"
          ]
        },
        {
          "output_type": "stream",
          "name": "stderr",
          "text": [
            "/usr/local/lib/python3.11/dist-packages/keras/src/layers/core/dense.py:87: UserWarning: Do not pass an `input_shape`/`input_dim` argument to a layer. When using Sequential models, prefer using an `Input(shape)` object as the first layer in the model instead.\n",
            "  super().__init__(activity_regularizer=activity_regularizer, **kwargs)\n"
          ]
        },
        {
          "output_type": "stream",
          "name": "stdout",
          "text": [
            "\u001b[1m15443/15443\u001b[0m \u001b[32m━━━━━━━━━━━━━━━━━━━━\u001b[0m\u001b[37m\u001b[0m \u001b[1m20s\u001b[0m 1ms/step - accuracy: 0.9181 - loss: 0.2374\n",
            "Epoch 2/50\n",
            "\u001b[1m15443/15443\u001b[0m \u001b[32m━━━━━━━━━━━━━━━━━━━━\u001b[0m\u001b[37m\u001b[0m \u001b[1m19s\u001b[0m 1ms/step - accuracy: 0.9181 - loss: 0.2262\n",
            "Epoch 3/50\n",
            "\u001b[1m15443/15443\u001b[0m \u001b[32m━━━━━━━━━━━━━━━━━━━━\u001b[0m\u001b[37m\u001b[0m \u001b[1m20s\u001b[0m 1ms/step - accuracy: 0.9193 - loss: 0.2243\n",
            "Epoch 4/50\n",
            "\u001b[1m15443/15443\u001b[0m \u001b[32m━━━━━━━━━━━━━━━━━━━━\u001b[0m\u001b[37m\u001b[0m \u001b[1m19s\u001b[0m 1ms/step - accuracy: 0.9188 - loss: 0.2249\n",
            "Epoch 5/50\n",
            "\u001b[1m15443/15443\u001b[0m \u001b[32m━━━━━━━━━━━━━━━━━━━━\u001b[0m\u001b[37m\u001b[0m \u001b[1m19s\u001b[0m 1ms/step - accuracy: 0.9181 - loss: 0.2254\n",
            "Epoch 6/50\n",
            "\u001b[1m15443/15443\u001b[0m \u001b[32m━━━━━━━━━━━━━━━━━━━━\u001b[0m\u001b[37m\u001b[0m \u001b[1m21s\u001b[0m 1ms/step - accuracy: 0.9194 - loss: 0.2234\n",
            "Epoch 7/50\n",
            "\u001b[1m15443/15443\u001b[0m \u001b[32m━━━━━━━━━━━━━━━━━━━━\u001b[0m\u001b[37m\u001b[0m \u001b[1m20s\u001b[0m 1ms/step - accuracy: 0.9188 - loss: 0.2246\n",
            "Epoch 8/50\n",
            "\u001b[1m15443/15443\u001b[0m \u001b[32m━━━━━━━━━━━━━━━━━━━━\u001b[0m\u001b[37m\u001b[0m \u001b[1m24s\u001b[0m 1ms/step - accuracy: 0.9191 - loss: 0.2238\n",
            "Epoch 9/50\n",
            "\u001b[1m15443/15443\u001b[0m \u001b[32m━━━━━━━━━━━━━━━━━━━━\u001b[0m\u001b[37m\u001b[0m \u001b[1m19s\u001b[0m 1ms/step - accuracy: 0.9198 - loss: 0.2234\n",
            "Epoch 10/50\n",
            "\u001b[1m15443/15443\u001b[0m \u001b[32m━━━━━━━━━━━━━━━━━━━━\u001b[0m\u001b[37m\u001b[0m \u001b[1m20s\u001b[0m 1ms/step - accuracy: 0.9182 - loss: 0.2254\n",
            "Epoch 11/50\n",
            "\u001b[1m15443/15443\u001b[0m \u001b[32m━━━━━━━━━━━━━━━━━━━━\u001b[0m\u001b[37m\u001b[0m \u001b[1m20s\u001b[0m 1ms/step - accuracy: 0.9189 - loss: 0.2249\n",
            "Epoch 12/50\n",
            "\u001b[1m15443/15443\u001b[0m \u001b[32m━━━━━━━━━━━━━━━━━━━━\u001b[0m\u001b[37m\u001b[0m \u001b[1m20s\u001b[0m 1ms/step - accuracy: 0.9187 - loss: 0.2246\n",
            "Epoch 13/50\n",
            "\u001b[1m15443/15443\u001b[0m \u001b[32m━━━━━━━━━━━━━━━━━━━━\u001b[0m\u001b[37m\u001b[0m \u001b[1m20s\u001b[0m 1ms/step - accuracy: 0.9193 - loss: 0.2229\n",
            "Epoch 14/50\n",
            "\u001b[1m15443/15443\u001b[0m \u001b[32m━━━━━━━━━━━━━━━━━━━━\u001b[0m\u001b[37m\u001b[0m \u001b[1m20s\u001b[0m 1ms/step - accuracy: 0.9188 - loss: 0.2252\n",
            "Epoch 15/50\n",
            "\u001b[1m15443/15443\u001b[0m \u001b[32m━━━━━━━━━━━━━━━━━━━━\u001b[0m\u001b[37m\u001b[0m \u001b[1m20s\u001b[0m 1ms/step - accuracy: 0.9195 - loss: 0.2223\n",
            "Epoch 16/50\n",
            "\u001b[1m15443/15443\u001b[0m \u001b[32m━━━━━━━━━━━━━━━━━━━━\u001b[0m\u001b[37m\u001b[0m \u001b[1m20s\u001b[0m 1ms/step - accuracy: 0.9178 - loss: 0.2269\n",
            "Epoch 17/50\n",
            "\u001b[1m15443/15443\u001b[0m \u001b[32m━━━━━━━━━━━━━━━━━━━━\u001b[0m\u001b[37m\u001b[0m \u001b[1m21s\u001b[0m 1ms/step - accuracy: 0.9192 - loss: 0.2243\n",
            "Epoch 18/50\n",
            "\u001b[1m15443/15443\u001b[0m \u001b[32m━━━━━━━━━━━━━━━━━━━━\u001b[0m\u001b[37m\u001b[0m \u001b[1m20s\u001b[0m 1ms/step - accuracy: 0.9194 - loss: 0.2231\n",
            "Epoch 19/50\n",
            "\u001b[1m15443/15443\u001b[0m \u001b[32m━━━━━━━━━━━━━━━━━━━━\u001b[0m\u001b[37m\u001b[0m \u001b[1m20s\u001b[0m 1ms/step - accuracy: 0.9185 - loss: 0.2245\n",
            "Epoch 20/50\n",
            "\u001b[1m15443/15443\u001b[0m \u001b[32m━━━━━━━━━━━━━━━━━━━━\u001b[0m\u001b[37m\u001b[0m \u001b[1m20s\u001b[0m 1ms/step - accuracy: 0.9197 - loss: 0.2233\n",
            "Epoch 21/50\n",
            "\u001b[1m15443/15443\u001b[0m \u001b[32m━━━━━━━━━━━━━━━━━━━━\u001b[0m\u001b[37m\u001b[0m \u001b[1m20s\u001b[0m 1ms/step - accuracy: 0.9187 - loss: 0.2244\n",
            "Epoch 22/50\n",
            "\u001b[1m15443/15443\u001b[0m \u001b[32m━━━━━━━━━━━━━━━━━━━━\u001b[0m\u001b[37m\u001b[0m \u001b[1m19s\u001b[0m 1ms/step - accuracy: 0.9187 - loss: 0.2258\n",
            "Epoch 23/50\n",
            "\u001b[1m15443/15443\u001b[0m \u001b[32m━━━━━━━━━━━━━━━━━━━━\u001b[0m\u001b[37m\u001b[0m \u001b[1m20s\u001b[0m 1ms/step - accuracy: 0.9182 - loss: 0.2262\n",
            "Epoch 24/50\n",
            "\u001b[1m15443/15443\u001b[0m \u001b[32m━━━━━━━━━━━━━━━━━━━━\u001b[0m\u001b[37m\u001b[0m \u001b[1m20s\u001b[0m 1ms/step - accuracy: 0.9199 - loss: 0.2233\n",
            "Epoch 25/50\n",
            "\u001b[1m15443/15443\u001b[0m \u001b[32m━━━━━━━━━━━━━━━━━━━━\u001b[0m\u001b[37m\u001b[0m \u001b[1m20s\u001b[0m 1ms/step - accuracy: 0.9184 - loss: 0.2254\n",
            "Epoch 26/50\n",
            "\u001b[1m15443/15443\u001b[0m \u001b[32m━━━━━━━━━━━━━━━━━━━━\u001b[0m\u001b[37m\u001b[0m \u001b[1m21s\u001b[0m 1ms/step - accuracy: 0.9183 - loss: 0.2254\n",
            "Epoch 27/50\n",
            "\u001b[1m15443/15443\u001b[0m \u001b[32m━━━━━━━━━━━━━━━━━━━━\u001b[0m\u001b[37m\u001b[0m \u001b[1m19s\u001b[0m 1ms/step - accuracy: 0.9186 - loss: 0.2244\n",
            "Epoch 28/50\n",
            "\u001b[1m15443/15443\u001b[0m \u001b[32m━━━━━━━━━━━━━━━━━━━━\u001b[0m\u001b[37m\u001b[0m \u001b[1m21s\u001b[0m 1ms/step - accuracy: 0.9190 - loss: 0.2238\n",
            "Epoch 29/50\n",
            "\u001b[1m15443/15443\u001b[0m \u001b[32m━━━━━━━━━━━━━━━━━━━━\u001b[0m\u001b[37m\u001b[0m \u001b[1m20s\u001b[0m 1ms/step - accuracy: 0.9192 - loss: 0.2228\n",
            "Epoch 30/50\n",
            "\u001b[1m15443/15443\u001b[0m \u001b[32m━━━━━━━━━━━━━━━━━━━━\u001b[0m\u001b[37m\u001b[0m \u001b[1m20s\u001b[0m 1ms/step - accuracy: 0.9197 - loss: 0.2232\n",
            "Epoch 31/50\n",
            "\u001b[1m15443/15443\u001b[0m \u001b[32m━━━━━━━━━━━━━━━━━━━━\u001b[0m\u001b[37m\u001b[0m \u001b[1m20s\u001b[0m 1ms/step - accuracy: 0.9188 - loss: 0.2250\n",
            "Epoch 32/50\n",
            "\u001b[1m15443/15443\u001b[0m \u001b[32m━━━━━━━━━━━━━━━━━━━━\u001b[0m\u001b[37m\u001b[0m \u001b[1m20s\u001b[0m 1ms/step - accuracy: 0.9205 - loss: 0.2220\n",
            "Epoch 33/50\n",
            "\u001b[1m15443/15443\u001b[0m \u001b[32m━━━━━━━━━━━━━━━━━━━━\u001b[0m\u001b[37m\u001b[0m \u001b[1m20s\u001b[0m 1ms/step - accuracy: 0.9199 - loss: 0.2227\n",
            "Epoch 34/50\n",
            "\u001b[1m15443/15443\u001b[0m \u001b[32m━━━━━━━━━━━━━━━━━━━━\u001b[0m\u001b[37m\u001b[0m \u001b[1m20s\u001b[0m 1ms/step - accuracy: 0.9185 - loss: 0.2252\n",
            "Epoch 35/50\n",
            "\u001b[1m15443/15443\u001b[0m \u001b[32m━━━━━━━━━━━━━━━━━━━━\u001b[0m\u001b[37m\u001b[0m \u001b[1m20s\u001b[0m 1ms/step - accuracy: 0.9187 - loss: 0.2249\n",
            "Epoch 36/50\n",
            "\u001b[1m15443/15443\u001b[0m \u001b[32m━━━━━━━━━━━━━━━━━━━━\u001b[0m\u001b[37m\u001b[0m \u001b[1m20s\u001b[0m 1ms/step - accuracy: 0.9185 - loss: 0.2251\n",
            "Epoch 37/50\n",
            "\u001b[1m15443/15443\u001b[0m \u001b[32m━━━━━━━━━━━━━━━━━━━━\u001b[0m\u001b[37m\u001b[0m \u001b[1m20s\u001b[0m 1ms/step - accuracy: 0.9205 - loss: 0.2221\n",
            "Epoch 38/50\n",
            "\u001b[1m15443/15443\u001b[0m \u001b[32m━━━━━━━━━━━━━━━━━━━━\u001b[0m\u001b[37m\u001b[0m \u001b[1m21s\u001b[0m 1ms/step - accuracy: 0.9192 - loss: 0.2236\n",
            "Epoch 39/50\n",
            "\u001b[1m15443/15443\u001b[0m \u001b[32m━━━━━━━━━━━━━━━━━━━━\u001b[0m\u001b[37m\u001b[0m \u001b[1m20s\u001b[0m 1ms/step - accuracy: 0.9197 - loss: 0.2236\n",
            "Epoch 40/50\n",
            "\u001b[1m15443/15443\u001b[0m \u001b[32m━━━━━━━━━━━━━━━━━━━━\u001b[0m\u001b[37m\u001b[0m \u001b[1m20s\u001b[0m 1ms/step - accuracy: 0.9202 - loss: 0.2230\n",
            "Epoch 41/50\n",
            "\u001b[1m15443/15443\u001b[0m \u001b[32m━━━━━━━━━━━━━━━━━━━━\u001b[0m\u001b[37m\u001b[0m \u001b[1m21s\u001b[0m 1ms/step - accuracy: 0.9191 - loss: 0.2230\n",
            "Epoch 42/50\n",
            "\u001b[1m15443/15443\u001b[0m \u001b[32m━━━━━━━━━━━━━━━━━━━━\u001b[0m\u001b[37m\u001b[0m \u001b[1m21s\u001b[0m 1ms/step - accuracy: 0.9190 - loss: 0.2241\n",
            "Epoch 43/50\n",
            "\u001b[1m15443/15443\u001b[0m \u001b[32m━━━━━━━━━━━━━━━━━━━━\u001b[0m\u001b[37m\u001b[0m \u001b[1m19s\u001b[0m 1ms/step - accuracy: 0.9191 - loss: 0.2238\n",
            "Epoch 44/50\n",
            "\u001b[1m15443/15443\u001b[0m \u001b[32m━━━━━━━━━━━━━━━━━━━━\u001b[0m\u001b[37m\u001b[0m \u001b[1m21s\u001b[0m 1ms/step - accuracy: 0.9194 - loss: 0.2233\n",
            "Epoch 45/50\n",
            "\u001b[1m15443/15443\u001b[0m \u001b[32m━━━━━━━━━━━━━━━━━━━━\u001b[0m\u001b[37m\u001b[0m \u001b[1m20s\u001b[0m 1ms/step - accuracy: 0.9201 - loss: 0.2223\n",
            "Epoch 46/50\n",
            "\u001b[1m15443/15443\u001b[0m \u001b[32m━━━━━━━━━━━━━━━━━━━━\u001b[0m\u001b[37m\u001b[0m \u001b[1m20s\u001b[0m 1ms/step - accuracy: 0.9195 - loss: 0.2222\n",
            "Epoch 47/50\n",
            "\u001b[1m15443/15443\u001b[0m \u001b[32m━━━━━━━━━━━━━━━━━━━━\u001b[0m\u001b[37m\u001b[0m \u001b[1m19s\u001b[0m 1ms/step - accuracy: 0.9195 - loss: 0.2235\n",
            "Epoch 48/50\n",
            "\u001b[1m15443/15443\u001b[0m \u001b[32m━━━━━━━━━━━━━━━━━━━━\u001b[0m\u001b[37m\u001b[0m \u001b[1m21s\u001b[0m 1ms/step - accuracy: 0.9188 - loss: 0.2262\n",
            "Epoch 49/50\n",
            "\u001b[1m15443/15443\u001b[0m \u001b[32m━━━━━━━━━━━━━━━━━━━━\u001b[0m\u001b[37m\u001b[0m \u001b[1m19s\u001b[0m 1ms/step - accuracy: 0.9193 - loss: 0.2233\n",
            "Epoch 50/50\n",
            "\u001b[1m15443/15443\u001b[0m \u001b[32m━━━━━━━━━━━━━━━━━━━━\u001b[0m\u001b[37m\u001b[0m \u001b[1m19s\u001b[0m 1ms/step - accuracy: 0.9187 - loss: 0.2254\n",
            "\u001b[1m1931/1931\u001b[0m \u001b[32m━━━━━━━━━━━━━━━━━━━━\u001b[0m\u001b[37m\u001b[0m \u001b[1m1s\u001b[0m 681us/step\n",
            "Deep Learning\n",
            "Accuracy: 0.9193958329960661\n",
            "F1 Score: 0.8830927482843656\n"
          ]
        }
      ]
    },
    {
      "cell_type": "code",
      "source": [
        "!pip install streamlit"
      ],
      "metadata": {
        "colab": {
          "base_uri": "https://localhost:8080/"
        },
        "id": "FhfLV76ESdZR",
        "outputId": "b18c488e-8928-4cda-90e8-7108dbc0daeb"
      },
      "execution_count": null,
      "outputs": [
        {
          "output_type": "stream",
          "name": "stdout",
          "text": [
            "Collecting streamlit\n",
            "  Downloading streamlit-1.47.0-py3-none-any.whl.metadata (9.0 kB)\n",
            "Requirement already satisfied: altair<6,>=4.0 in /usr/local/lib/python3.11/dist-packages (from streamlit) (5.5.0)\n",
            "Requirement already satisfied: blinker<2,>=1.5.0 in /usr/local/lib/python3.11/dist-packages (from streamlit) (1.9.0)\n",
            "Requirement already satisfied: cachetools<7,>=4.0 in /usr/local/lib/python3.11/dist-packages (from streamlit) (5.5.2)\n",
            "Requirement already satisfied: click<9,>=7.0 in /usr/local/lib/python3.11/dist-packages (from streamlit) (8.2.1)\n",
            "Requirement already satisfied: numpy<3,>=1.23 in /usr/local/lib/python3.11/dist-packages (from streamlit) (2.0.2)\n",
            "Requirement already satisfied: packaging<26,>=20 in /usr/local/lib/python3.11/dist-packages (from streamlit) (25.0)\n",
            "Requirement already satisfied: pandas<3,>=1.4.0 in /usr/local/lib/python3.11/dist-packages (from streamlit) (2.2.2)\n",
            "Requirement already satisfied: pillow<12,>=7.1.0 in /usr/local/lib/python3.11/dist-packages (from streamlit) (11.3.0)\n",
            "Requirement already satisfied: protobuf<7,>=3.20 in /usr/local/lib/python3.11/dist-packages (from streamlit) (5.29.5)\n",
            "Requirement already satisfied: pyarrow>=7.0 in /usr/local/lib/python3.11/dist-packages (from streamlit) (18.1.0)\n",
            "Requirement already satisfied: requests<3,>=2.27 in /usr/local/lib/python3.11/dist-packages (from streamlit) (2.32.3)\n",
            "Requirement already satisfied: tenacity<10,>=8.1.0 in /usr/local/lib/python3.11/dist-packages (from streamlit) (8.5.0)\n",
            "Requirement already satisfied: toml<2,>=0.10.1 in /usr/local/lib/python3.11/dist-packages (from streamlit) (0.10.2)\n",
            "Requirement already satisfied: typing-extensions<5,>=4.4.0 in /usr/local/lib/python3.11/dist-packages (from streamlit) (4.14.1)\n",
            "Collecting watchdog<7,>=2.1.5 (from streamlit)\n",
            "  Downloading watchdog-6.0.0-py3-none-manylinux2014_x86_64.whl.metadata (44 kB)\n",
            "\u001b[2K     \u001b[90m━━━━━━━━━━━━━━━━━━━━━━━━━━━━━━━━━━━━━━━━\u001b[0m \u001b[32m44.3/44.3 kB\u001b[0m \u001b[31m2.8 MB/s\u001b[0m eta \u001b[36m0:00:00\u001b[0m\n",
            "\u001b[?25hRequirement already satisfied: gitpython!=3.1.19,<4,>=3.0.7 in /usr/local/lib/python3.11/dist-packages (from streamlit) (3.1.44)\n",
            "Collecting pydeck<1,>=0.8.0b4 (from streamlit)\n",
            "  Downloading pydeck-0.9.1-py2.py3-none-any.whl.metadata (4.1 kB)\n",
            "Requirement already satisfied: tornado!=6.5.0,<7,>=6.0.3 in /usr/local/lib/python3.11/dist-packages (from streamlit) (6.4.2)\n",
            "Requirement already satisfied: jinja2 in /usr/local/lib/python3.11/dist-packages (from altair<6,>=4.0->streamlit) (3.1.6)\n",
            "Requirement already satisfied: jsonschema>=3.0 in /usr/local/lib/python3.11/dist-packages (from altair<6,>=4.0->streamlit) (4.25.0)\n",
            "Requirement already satisfied: narwhals>=1.14.2 in /usr/local/lib/python3.11/dist-packages (from altair<6,>=4.0->streamlit) (1.47.1)\n",
            "Requirement already satisfied: gitdb<5,>=4.0.1 in /usr/local/lib/python3.11/dist-packages (from gitpython!=3.1.19,<4,>=3.0.7->streamlit) (4.0.12)\n",
            "Requirement already satisfied: python-dateutil>=2.8.2 in /usr/local/lib/python3.11/dist-packages (from pandas<3,>=1.4.0->streamlit) (2.9.0.post0)\n",
            "Requirement already satisfied: pytz>=2020.1 in /usr/local/lib/python3.11/dist-packages (from pandas<3,>=1.4.0->streamlit) (2025.2)\n",
            "Requirement already satisfied: tzdata>=2022.7 in /usr/local/lib/python3.11/dist-packages (from pandas<3,>=1.4.0->streamlit) (2025.2)\n",
            "Requirement already satisfied: charset-normalizer<4,>=2 in /usr/local/lib/python3.11/dist-packages (from requests<3,>=2.27->streamlit) (3.4.2)\n",
            "Requirement already satisfied: idna<4,>=2.5 in /usr/local/lib/python3.11/dist-packages (from requests<3,>=2.27->streamlit) (3.10)\n",
            "Requirement already satisfied: urllib3<3,>=1.21.1 in /usr/local/lib/python3.11/dist-packages (from requests<3,>=2.27->streamlit) (2.5.0)\n",
            "Requirement already satisfied: certifi>=2017.4.17 in /usr/local/lib/python3.11/dist-packages (from requests<3,>=2.27->streamlit) (2025.7.14)\n",
            "Requirement already satisfied: smmap<6,>=3.0.1 in /usr/local/lib/python3.11/dist-packages (from gitdb<5,>=4.0.1->gitpython!=3.1.19,<4,>=3.0.7->streamlit) (5.0.2)\n",
            "Requirement already satisfied: MarkupSafe>=2.0 in /usr/local/lib/python3.11/dist-packages (from jinja2->altair<6,>=4.0->streamlit) (3.0.2)\n",
            "Requirement already satisfied: attrs>=22.2.0 in /usr/local/lib/python3.11/dist-packages (from jsonschema>=3.0->altair<6,>=4.0->streamlit) (25.3.0)\n",
            "Requirement already satisfied: jsonschema-specifications>=2023.03.6 in /usr/local/lib/python3.11/dist-packages (from jsonschema>=3.0->altair<6,>=4.0->streamlit) (2025.4.1)\n",
            "Requirement already satisfied: referencing>=0.28.4 in /usr/local/lib/python3.11/dist-packages (from jsonschema>=3.0->altair<6,>=4.0->streamlit) (0.36.2)\n",
            "Requirement already satisfied: rpds-py>=0.7.1 in /usr/local/lib/python3.11/dist-packages (from jsonschema>=3.0->altair<6,>=4.0->streamlit) (0.26.0)\n",
            "Requirement already satisfied: six>=1.5 in /usr/local/lib/python3.11/dist-packages (from python-dateutil>=2.8.2->pandas<3,>=1.4.0->streamlit) (1.17.0)\n",
            "Downloading streamlit-1.47.0-py3-none-any.whl (9.9 MB)\n",
            "\u001b[2K   \u001b[90m━━━━━━━━━━━━━━━━━━━━━━━━━━━━━━━━━━━━━━━━\u001b[0m \u001b[32m9.9/9.9 MB\u001b[0m \u001b[31m94.6 MB/s\u001b[0m eta \u001b[36m0:00:00\u001b[0m\n",
            "\u001b[?25hDownloading pydeck-0.9.1-py2.py3-none-any.whl (6.9 MB)\n",
            "\u001b[2K   \u001b[90m━━━━━━━━━━━━━━━━━━━━━━━━━━━━━━━━━━━━━━━━\u001b[0m \u001b[32m6.9/6.9 MB\u001b[0m \u001b[31m129.5 MB/s\u001b[0m eta \u001b[36m0:00:00\u001b[0m\n",
            "\u001b[?25hDownloading watchdog-6.0.0-py3-none-manylinux2014_x86_64.whl (79 kB)\n",
            "\u001b[2K   \u001b[90m━━━━━━━━━━━━━━━━━━━━━━━━━━━━━━━━━━━━━━━━\u001b[0m \u001b[32m79.1/79.1 kB\u001b[0m \u001b[31m8.3 MB/s\u001b[0m eta \u001b[36m0:00:00\u001b[0m\n",
            "\u001b[?25hInstalling collected packages: watchdog, pydeck, streamlit\n",
            "Successfully installed pydeck-0.9.1 streamlit-1.47.0 watchdog-6.0.0\n"
          ]
        }
      ]
    },
    {
      "cell_type": "code",
      "source": [
        "import streamlit as st\n",
        "import pandas as pd\n",
        "import numpy as np\n",
        "import pickle\n",
        "import os\n",
        "\n",
        "# Load trained model and label encoder\n",
        "@st.cache_resource\n",
        "def load_model():\n",
        "    # Get the current working directory\n",
        "    current_dir = os.getcwd()\n",
        "    model_path = os.path.join(current_dir, \"random_forest_model.pkl\")\n",
        "    encoder_path = os.path.join(current_dir, \"label_encoder.pkl\")\n",
        "    symptoms_path = os.path.join(current_dir, \"symptom_list.pkl\")\n",
        "\n",
        "    try:\n",
        "        with open(model_path, \"rb\") as f:\n",
        "            model = pickle.load(f)\n",
        "        with open(encoder_path, \"rb\") as f:\n",
        "            encoder = pickle.load(f)\n",
        "        with open(symptoms_path, \"rb\") as f:\n",
        "            symptoms = pickle.load(f)\n",
        "        return model, encoder, symptoms\n",
        "    except FileNotFoundError as e:\n",
        "        st.error(f\"Error loading model files: {e}. Make sure you have run the cells to save the model and encoder.\")\n",
        "        return None, None, None\n",
        "\n",
        "\n",
        "model, label_encoder, all_symptoms = load_model()\n",
        "\n",
        "if model and label_encoder and all_symptoms:\n",
        "    # Title\n",
        "    st.title(\"Disease Prediction from Symptoms\")\n",
        "    st.write(\"Input the presence (1) or absence (0) of symptoms below:\")\n",
        "\n",
        "    # User input\n",
        "    user_input = {}\n",
        "    for symptom in all_symptoms:\n",
        "        user_input[symptom] = st.selectbox(f\"{symptom.replace('_',' ').capitalize()}\", [0, 1], key=symptom)\n",
        "\n",
        "    # Prediction\n",
        "    if st.button(\"Predict Disease\"):\n",
        "        input_df = pd.DataFrame([user_input])\n",
        "        prediction = model.predict(input_df)[0]\n",
        "        disease_name = label_encoder.inverse_transform([prediction])[0]\n",
        "        st.success(f\"🩺 Predicted Disease: **{disease_name}**\")\n",
        "else:\n",
        "    st.warning(\"Model files not loaded. Please run the cells to save the model and encoder, then rerun this cell.\")"
      ],
      "metadata": {
        "colab": {
          "base_uri": "https://localhost:8080/"
        },
        "id": "F-BRWgojSpIh",
        "outputId": "ddc5d12e-3233-4715-efbf-b3128e376c75"
      },
      "execution_count": null,
      "outputs": [
        {
          "output_type": "stream",
          "name": "stderr",
          "text": [
            "2025-07-23 09:10:51.115 WARNING streamlit.runtime.scriptrunner_utils.script_run_context: Thread 'MainThread': missing ScriptRunContext! This warning can be ignored when running in bare mode.\n",
            "2025-07-23 09:10:51.252 \n",
            "  \u001b[33m\u001b[1mWarning:\u001b[0m to view this Streamlit app on a browser, run it with the following\n",
            "  command:\n",
            "\n",
            "    streamlit run /usr/local/lib/python3.11/dist-packages/colab_kernel_launcher.py [ARGUMENTS]\n",
            "2025-07-23 09:10:51.255 Thread 'MainThread': missing ScriptRunContext! This warning can be ignored when running in bare mode.\n",
            "2025-07-23 09:10:51.257 Thread 'MainThread': missing ScriptRunContext! This warning can be ignored when running in bare mode.\n",
            "2025-07-23 09:10:51.258 Thread 'MainThread': missing ScriptRunContext! This warning can be ignored when running in bare mode.\n",
            "2025-07-23 09:10:51.261 Thread 'MainThread': missing ScriptRunContext! This warning can be ignored when running in bare mode.\n",
            "2025-07-23 09:10:51.263 Thread 'MainThread': missing ScriptRunContext! This warning can be ignored when running in bare mode.\n",
            "2025-07-23 09:10:51.264 Thread 'MainThread': missing ScriptRunContext! This warning can be ignored when running in bare mode.\n",
            "2025-07-23 09:10:51.268 Thread 'MainThread': missing ScriptRunContext! This warning can be ignored when running in bare mode.\n",
            "2025-07-23 09:10:51.269 Thread 'MainThread': missing ScriptRunContext! This warning can be ignored when running in bare mode.\n",
            "2025-07-23 09:10:51.270 Thread 'MainThread': missing ScriptRunContext! This warning can be ignored when running in bare mode.\n",
            "2025-07-23 09:10:51.271 Thread 'MainThread': missing ScriptRunContext! This warning can be ignored when running in bare mode.\n",
            "2025-07-23 09:10:51.274 Thread 'MainThread': missing ScriptRunContext! This warning can be ignored when running in bare mode.\n",
            "2025-07-23 09:10:51.275 Thread 'MainThread': missing ScriptRunContext! This warning can be ignored when running in bare mode.\n"
          ]
        }
      ]
    },
    {
      "cell_type": "code",
      "source": [
        "%%writefile app.py\n",
        "import joblib\n",
        "import streamlit as st\n",
        "import pandas as pd\n",
        "\n",
        "# Load the saved model\n",
        "model = joblib.load(\"/content/logistic_regression_model.pkl\")\n",
        "\n",
        "# Create a dictionary with example feature values (replace with actual values)\n",
        "# The keys should match the original column names of your data (excluding the target)\n",
        "example_input = {\n",
        "    'General_Health': 'Very Good',\n",
        "    'Checkup': 'Within the past year',\n",
        "    'Exercise': 'Yes',\n",
        "    'Skin_Cancer': 'No',\n",
        "    'Other_Cancer': 'No',\n",
        "    'Depression': 'No',\n",
        "    'Diabetes': 'No',\n",
        "    'Arthritis': 'No',\n",
        "    'Sex': 'Female',\n",
        "    'Age_Category': '55-59',\n",
        "    'Height_(cm)': 163.0,\n",
        "    'Weight_(kg)': 75.0,\n",
        "    'BMI': 28.37,\n",
        "    'Smoking_History': 'Yes',\n",
        "    'Alcohol_Consumption': 0.0,\n",
        "    'Fruit_Consumption': 30.0,\n",
        "    'Green_Vegetables_Consumption': 16.0,\n",
        "    'FriedPotato_Consumption': 12.0\n",
        "}\n",
        "\n",
        "\n",
        "# Convert the example input to a DataFrame\n",
        "input_df = pd.DataFrame([example_input])\n",
        "\n",
        "# Preprocess the input data using the same pipeline used for training\n",
        "# Make sure the 'pipeline' variable is defined in a previous cell and has been fitted on the training data\n",
        "try:\n",
        "    input_processed = pipeline.transform(input_df)\n",
        "\n",
        "    # Make a prediction\n",
        "    prediction = model.predict(input_processed)[0]\n",
        "\n",
        "    # Assuming you have the label_encoder from the first cell\n",
        "    # If not, you might need to load it or recreate it\n",
        "    # For demonstration, let's assume 0 and 1 are the encoded classes\n",
        "    predicted_class = \"No Heart Disease\" if prediction == 0 else \"Heart Disease\"\n",
        "\n",
        "    st.write(\"Prediction:\", predicted_class)\n",
        "\n",
        "except NameError:\n",
        "    st.error(\"The 'pipeline' object is not defined. Please run the first cell to define and fit the preprocessing pipeline.\")\n",
        "except Exception as e:\n",
        "    st.error(f\"An error occurred during prediction: {e}\")"
      ],
      "metadata": {
        "colab": {
          "base_uri": "https://localhost:8080/"
        },
        "id": "_nWWMDWvSzW2",
        "outputId": "25bf1877-87db-4ca5-c42b-b328d7f7a38e"
      },
      "execution_count": null,
      "outputs": [
        {
          "output_type": "stream",
          "name": "stdout",
          "text": [
            "Overwriting app.py\n"
          ]
        }
      ]
    },
    {
      "cell_type": "code",
      "source": [
        "!pip install streamlit pyngrok --quiet"
      ],
      "metadata": {
        "colab": {
          "base_uri": "https://localhost:8080/"
        },
        "id": "G8yaOrfvS-Qy",
        "outputId": "bae3a9aa-5e7a-45dc-d8e0-b475bd96ba9d"
      },
      "execution_count": null,
      "outputs": [
        {
          "output_type": "stream",
          "name": "stdout",
          "text": [
            "\u001b[2K     \u001b[90m━━━━━━━━━━━━━━━━━━━━━━━━━━━━━━━━━━━━━━━━\u001b[0m \u001b[32m44.3/44.3 kB\u001b[0m \u001b[31m1.7 MB/s\u001b[0m eta \u001b[36m0:00:00\u001b[0m\n",
            "\u001b[2K   \u001b[90m━━━━━━━━━━━━━━━━━━━━━━━━━━━━━━━━━━━━━━━━\u001b[0m \u001b[32m9.9/9.9 MB\u001b[0m \u001b[31m51.5 MB/s\u001b[0m eta \u001b[36m0:00:00\u001b[0m\n",
            "\u001b[2K   \u001b[90m━━━━━━━━━━━━━━━━━━━━━━━━━━━━━━━━━━━━━━━━\u001b[0m \u001b[32m6.9/6.9 MB\u001b[0m \u001b[31m66.6 MB/s\u001b[0m eta \u001b[36m0:00:00\u001b[0m\n",
            "\u001b[2K   \u001b[90m━━━━━━━━━━━━━━━━━━━━━━━━━━━━━━━━━━━━━━━━\u001b[0m \u001b[32m79.1/79.1 kB\u001b[0m \u001b[31m5.7 MB/s\u001b[0m eta \u001b[36m0:00:00\u001b[0m\n",
            "\u001b[?25h"
          ]
        }
      ]
    },
    {
      "cell_type": "code",
      "source": [
        "!ngrok config add-authtoken 2zuJuuww7wEH0TCZr10f8Eo7RBS_2CWSdiVDVie8PCSgnTBA6"
      ],
      "metadata": {
        "colab": {
          "base_uri": "https://localhost:8080/"
        },
        "id": "jRGIUgOXTC__",
        "outputId": "7a0bfcea-37d7-425b-f4ed-d71fcfc50a82"
      },
      "execution_count": null,
      "outputs": [
        {
          "output_type": "stream",
          "name": "stdout",
          "text": [
            "Authtoken saved to configuration file: /root/.config/ngrok/ngrok.yml\n"
          ]
        }
      ]
    },
    {
      "cell_type": "code",
      "source": [
        "import joblib\n",
        "import streamlit as st\n",
        "import pandas as pd\n",
        "\n",
        "# Load the saved model\n",
        "model = joblib.load(\"logistic_regression_model.pkl\")\n",
        "\n",
        "# Create a dictionary with example feature values (replace with actual values)\n",
        "# The keys should match the original column names of your data (excluding the target)\n",
        "example_input = {\n",
        "    'General_Health': 'Very Good',\n",
        "    'Checkup': 'Within the past year',\n",
        "    'Exercise': 'Yes',\n",
        "    'Skin_Cancer': 'No',\n",
        "    'Other_Cancer': 'No',\n",
        "    'Depression': 'No',\n",
        "    'Diabetes': 'No',\n",
        "    'Arthritis': 'No',\n",
        "    'Sex': 'Female',\n",
        "    'Age_Category': '55-59',\n",
        "    'Height_(cm)': 163.0,\n",
        "    'Weight_(kg)': 75.0,\n",
        "    'BMI': 28.37,\n",
        "    'Smoking_History': 'Yes',\n",
        "    'Alcohol_Consumption': 0.0,\n",
        "    'Fruit_Consumption': 30.0,\n",
        "    'Green_Vegetables_Consumption': 16.0,\n",
        "    'FriedPotato_Consumption': 12.0\n",
        "}\n",
        "\n",
        "\n",
        "# Convert the example input to a DataFrame\n",
        "input_df = pd.DataFrame([example_input])\n",
        "\n",
        "# Preprocess the input data using the same pipeline used for training\n",
        "# Make sure the 'pipeline' variable is defined in a previous cell and has been fitted on the training data\n",
        "try:\n",
        "    input_processed = pipeline.transform(input_df)\n",
        "\n",
        "    # Make a prediction\n",
        "    prediction = model.predict(input_processed)[0]\n",
        "\n",
        "    # Assuming you have the label_encoder from the first cell\n",
        "    # If not, you might need to load it or recreate it\n",
        "    # For demonstration, let's assume 0 and 1 are the encoded classes\n",
        "    predicted_class = \"No Heart Disease\" if prediction == 0 else \"Heart Disease\"\n",
        "\n",
        "    st.write(\"Prediction:\", predicted_class)\n",
        "\n",
        "except NameError:\n",
        "    st.error(\"The 'pipeline' object is not defined. Please run the first cell to define and fit the preprocessing pipeline.\")\n",
        "except Exception as e:\n",
        "    st.error(f\"An error occurred during prediction: {e}\")"
      ],
      "metadata": {
        "colab": {
          "base_uri": "https://localhost:8080/"
        },
        "id": "RtaNR6eZUdUb",
        "outputId": "121ffcc0-b901-4111-fd6f-dac8ec3a7a33"
      },
      "execution_count": null,
      "outputs": [
        {
          "output_type": "stream",
          "name": "stderr",
          "text": [
            "2025-07-23 08:16:38.571 Thread 'MainThread': missing ScriptRunContext! This warning can be ignored when running in bare mode.\n",
            "2025-07-23 08:16:38.571 Thread 'MainThread': missing ScriptRunContext! This warning can be ignored when running in bare mode.\n",
            "2025-07-23 08:16:38.572 Thread 'MainThread': missing ScriptRunContext! This warning can be ignored when running in bare mode.\n",
            "2025-07-23 08:16:38.574 Thread 'MainThread': missing ScriptRunContext! This warning can be ignored when running in bare mode.\n",
            "2025-07-23 08:16:38.575 Thread 'MainThread': missing ScriptRunContext! This warning can be ignored when running in bare mode.\n",
            "2025-07-23 08:16:38.576 Thread 'MainThread': missing ScriptRunContext! This warning can be ignored when running in bare mode.\n"
          ]
        }
      ]
    },
    {
      "cell_type": "code",
      "source": [
        "joblib.dump(scaler, \"scaler.pkl\")\n",
        "\n",
        "# In Streamlit\n",
        "scaler = joblib.load(\"scaler.pkl\")\n",
        "scaled_input = scaler.transform([user_input])\n"
      ],
      "metadata": {
        "id": "rYW_KAxZUkF_"
      },
      "execution_count": null,
      "outputs": []
    },
    {
      "cell_type": "code",
      "metadata": {
        "id": "eafba5c5"
      },
      "source": [
        "!pip install pyngrok --quiet"
      ],
      "execution_count": null,
      "outputs": []
    },
    {
      "cell_type": "code",
      "metadata": {
        "colab": {
          "base_uri": "https://localhost:8080/"
        },
        "id": "f17e5098",
        "outputId": "131c7fc4-f91a-4bed-923a-c76c8789c938"
      },
      "source": [
        "!pip install streamlit --quiet"
      ],
      "execution_count": null,
      "outputs": [
        {
          "output_type": "stream",
          "name": "stdout",
          "text": [
            "\u001b[2K     \u001b[90m━━━━━━━━━━━━━━━━━━━━━━━━━━━━━━━━━━━━━━━━\u001b[0m \u001b[32m44.3/44.3 kB\u001b[0m \u001b[31m1.7 MB/s\u001b[0m eta \u001b[36m0:00:00\u001b[0m\n",
            "\u001b[2K   \u001b[90m━━━━━━━━━━━━━━━━━━━━━━━━━━━━━━━━━━━━━━━━\u001b[0m \u001b[32m9.9/9.9 MB\u001b[0m \u001b[31m51.2 MB/s\u001b[0m eta \u001b[36m0:00:00\u001b[0m\n",
            "\u001b[2K   \u001b[90m━━━━━━━━━━━━━━━━━━━━━━━━━━━━━━━━━━━━━━━━\u001b[0m \u001b[32m6.9/6.9 MB\u001b[0m \u001b[31m45.6 MB/s\u001b[0m eta \u001b[36m0:00:00\u001b[0m\n",
            "\u001b[2K   \u001b[90m━━━━━━━━━━━━━━━━━━━━━━━━━━━━━━━━━━━━━━━━\u001b[0m \u001b[32m79.1/79.1 kB\u001b[0m \u001b[31m4.9 MB/s\u001b[0m eta \u001b[36m0:00:00\u001b[0m\n",
            "\u001b[?25h"
          ]
        }
      ]
    },
    {
      "cell_type": "code",
      "source": [
        "# Step 1: Write the requirements to a file\n",
        "with open(\"requirements.txt\", \"w\") as f:\n",
        "    f.write(\"\"\"\n",
        "pandas\n",
        "numpy\n",
        "matplotlib\n",
        "scikit-learn\n",
        "seaborn\n",
        "xgboost\n",
        "tensorflow\n",
        "joblib\n",
        "\"\"\")\n",
        "\n",
        "# Step 2: Install from the requirements.txt file\n",
        "!pip install -r requirements.txt\n"
      ],
      "metadata": {
        "colab": {
          "base_uri": "https://localhost:8080/"
        },
        "id": "LLdWJcaVoAuS",
        "outputId": "e65e2847-8e09-4e2c-d740-c02a9c19f3e0"
      },
      "execution_count": null,
      "outputs": [
        {
          "output_type": "stream",
          "name": "stdout",
          "text": [
            "Requirement already satisfied: pandas in /usr/local/lib/python3.11/dist-packages (from -r requirements.txt (line 2)) (2.2.2)\n",
            "Requirement already satisfied: numpy in /usr/local/lib/python3.11/dist-packages (from -r requirements.txt (line 3)) (2.0.2)\n",
            "Requirement already satisfied: matplotlib in /usr/local/lib/python3.11/dist-packages (from -r requirements.txt (line 4)) (3.10.0)\n",
            "Requirement already satisfied: scikit-learn in /usr/local/lib/python3.11/dist-packages (from -r requirements.txt (line 5)) (1.6.1)\n",
            "Requirement already satisfied: seaborn in /usr/local/lib/python3.11/dist-packages (from -r requirements.txt (line 6)) (0.13.2)\n",
            "Requirement already satisfied: xgboost in /usr/local/lib/python3.11/dist-packages (from -r requirements.txt (line 7)) (3.0.2)\n",
            "Requirement already satisfied: tensorflow in /usr/local/lib/python3.11/dist-packages (from -r requirements.txt (line 8)) (2.18.0)\n",
            "Requirement already satisfied: joblib in /usr/local/lib/python3.11/dist-packages (from -r requirements.txt (line 9)) (1.5.1)\n",
            "Requirement already satisfied: python-dateutil>=2.8.2 in /usr/local/lib/python3.11/dist-packages (from pandas->-r requirements.txt (line 2)) (2.9.0.post0)\n",
            "Requirement already satisfied: pytz>=2020.1 in /usr/local/lib/python3.11/dist-packages (from pandas->-r requirements.txt (line 2)) (2025.2)\n",
            "Requirement already satisfied: tzdata>=2022.7 in /usr/local/lib/python3.11/dist-packages (from pandas->-r requirements.txt (line 2)) (2025.2)\n",
            "Requirement already satisfied: contourpy>=1.0.1 in /usr/local/lib/python3.11/dist-packages (from matplotlib->-r requirements.txt (line 4)) (1.3.2)\n",
            "Requirement already satisfied: cycler>=0.10 in /usr/local/lib/python3.11/dist-packages (from matplotlib->-r requirements.txt (line 4)) (0.12.1)\n",
            "Requirement already satisfied: fonttools>=4.22.0 in /usr/local/lib/python3.11/dist-packages (from matplotlib->-r requirements.txt (line 4)) (4.59.0)\n",
            "Requirement already satisfied: kiwisolver>=1.3.1 in /usr/local/lib/python3.11/dist-packages (from matplotlib->-r requirements.txt (line 4)) (1.4.8)\n",
            "Requirement already satisfied: packaging>=20.0 in /usr/local/lib/python3.11/dist-packages (from matplotlib->-r requirements.txt (line 4)) (25.0)\n",
            "Requirement already satisfied: pillow>=8 in /usr/local/lib/python3.11/dist-packages (from matplotlib->-r requirements.txt (line 4)) (11.3.0)\n",
            "Requirement already satisfied: pyparsing>=2.3.1 in /usr/local/lib/python3.11/dist-packages (from matplotlib->-r requirements.txt (line 4)) (3.2.3)\n",
            "Requirement already satisfied: scipy>=1.6.0 in /usr/local/lib/python3.11/dist-packages (from scikit-learn->-r requirements.txt (line 5)) (1.16.0)\n",
            "Requirement already satisfied: threadpoolctl>=3.1.0 in /usr/local/lib/python3.11/dist-packages (from scikit-learn->-r requirements.txt (line 5)) (3.6.0)\n",
            "Requirement already satisfied: nvidia-nccl-cu12 in /usr/local/lib/python3.11/dist-packages (from xgboost->-r requirements.txt (line 7)) (2.21.5)\n",
            "Requirement already satisfied: absl-py>=1.0.0 in /usr/local/lib/python3.11/dist-packages (from tensorflow->-r requirements.txt (line 8)) (1.4.0)\n",
            "Requirement already satisfied: astunparse>=1.6.0 in /usr/local/lib/python3.11/dist-packages (from tensorflow->-r requirements.txt (line 8)) (1.6.3)\n",
            "Requirement already satisfied: flatbuffers>=24.3.25 in /usr/local/lib/python3.11/dist-packages (from tensorflow->-r requirements.txt (line 8)) (25.2.10)\n",
            "Requirement already satisfied: gast!=0.5.0,!=0.5.1,!=0.5.2,>=0.2.1 in /usr/local/lib/python3.11/dist-packages (from tensorflow->-r requirements.txt (line 8)) (0.6.0)\n",
            "Requirement already satisfied: google-pasta>=0.1.1 in /usr/local/lib/python3.11/dist-packages (from tensorflow->-r requirements.txt (line 8)) (0.2.0)\n",
            "Requirement already satisfied: libclang>=13.0.0 in /usr/local/lib/python3.11/dist-packages (from tensorflow->-r requirements.txt (line 8)) (18.1.1)\n",
            "Requirement already satisfied: opt-einsum>=2.3.2 in /usr/local/lib/python3.11/dist-packages (from tensorflow->-r requirements.txt (line 8)) (3.4.0)\n",
            "Requirement already satisfied: protobuf!=4.21.0,!=4.21.1,!=4.21.2,!=4.21.3,!=4.21.4,!=4.21.5,<6.0.0dev,>=3.20.3 in /usr/local/lib/python3.11/dist-packages (from tensorflow->-r requirements.txt (line 8)) (5.29.5)\n",
            "Requirement already satisfied: requests<3,>=2.21.0 in /usr/local/lib/python3.11/dist-packages (from tensorflow->-r requirements.txt (line 8)) (2.32.3)\n",
            "Requirement already satisfied: setuptools in /usr/local/lib/python3.11/dist-packages (from tensorflow->-r requirements.txt (line 8)) (75.2.0)\n",
            "Requirement already satisfied: six>=1.12.0 in /usr/local/lib/python3.11/dist-packages (from tensorflow->-r requirements.txt (line 8)) (1.17.0)\n",
            "Requirement already satisfied: termcolor>=1.1.0 in /usr/local/lib/python3.11/dist-packages (from tensorflow->-r requirements.txt (line 8)) (3.1.0)\n",
            "Requirement already satisfied: typing-extensions>=3.6.6 in /usr/local/lib/python3.11/dist-packages (from tensorflow->-r requirements.txt (line 8)) (4.14.1)\n",
            "Requirement already satisfied: wrapt>=1.11.0 in /usr/local/lib/python3.11/dist-packages (from tensorflow->-r requirements.txt (line 8)) (1.17.2)\n",
            "Requirement already satisfied: grpcio<2.0,>=1.24.3 in /usr/local/lib/python3.11/dist-packages (from tensorflow->-r requirements.txt (line 8)) (1.73.1)\n",
            "Requirement already satisfied: tensorboard<2.19,>=2.18 in /usr/local/lib/python3.11/dist-packages (from tensorflow->-r requirements.txt (line 8)) (2.18.0)\n",
            "Requirement already satisfied: keras>=3.5.0 in /usr/local/lib/python3.11/dist-packages (from tensorflow->-r requirements.txt (line 8)) (3.8.0)\n",
            "Requirement already satisfied: h5py>=3.11.0 in /usr/local/lib/python3.11/dist-packages (from tensorflow->-r requirements.txt (line 8)) (3.14.0)\n",
            "Requirement already satisfied: ml-dtypes<0.5.0,>=0.4.0 in /usr/local/lib/python3.11/dist-packages (from tensorflow->-r requirements.txt (line 8)) (0.4.1)\n",
            "Requirement already satisfied: tensorflow-io-gcs-filesystem>=0.23.1 in /usr/local/lib/python3.11/dist-packages (from tensorflow->-r requirements.txt (line 8)) (0.37.1)\n",
            "Requirement already satisfied: wheel<1.0,>=0.23.0 in /usr/local/lib/python3.11/dist-packages (from astunparse>=1.6.0->tensorflow->-r requirements.txt (line 8)) (0.45.1)\n",
            "Requirement already satisfied: rich in /usr/local/lib/python3.11/dist-packages (from keras>=3.5.0->tensorflow->-r requirements.txt (line 8)) (13.9.4)\n",
            "Requirement already satisfied: namex in /usr/local/lib/python3.11/dist-packages (from keras>=3.5.0->tensorflow->-r requirements.txt (line 8)) (0.1.0)\n",
            "Requirement already satisfied: optree in /usr/local/lib/python3.11/dist-packages (from keras>=3.5.0->tensorflow->-r requirements.txt (line 8)) (0.16.0)\n",
            "Requirement already satisfied: charset-normalizer<4,>=2 in /usr/local/lib/python3.11/dist-packages (from requests<3,>=2.21.0->tensorflow->-r requirements.txt (line 8)) (3.4.2)\n",
            "Requirement already satisfied: idna<4,>=2.5 in /usr/local/lib/python3.11/dist-packages (from requests<3,>=2.21.0->tensorflow->-r requirements.txt (line 8)) (3.10)\n",
            "Requirement already satisfied: urllib3<3,>=1.21.1 in /usr/local/lib/python3.11/dist-packages (from requests<3,>=2.21.0->tensorflow->-r requirements.txt (line 8)) (2.5.0)\n",
            "Requirement already satisfied: certifi>=2017.4.17 in /usr/local/lib/python3.11/dist-packages (from requests<3,>=2.21.0->tensorflow->-r requirements.txt (line 8)) (2025.7.14)\n",
            "Requirement already satisfied: markdown>=2.6.8 in /usr/local/lib/python3.11/dist-packages (from tensorboard<2.19,>=2.18->tensorflow->-r requirements.txt (line 8)) (3.8.2)\n",
            "Requirement already satisfied: tensorboard-data-server<0.8.0,>=0.7.0 in /usr/local/lib/python3.11/dist-packages (from tensorboard<2.19,>=2.18->tensorflow->-r requirements.txt (line 8)) (0.7.2)\n",
            "Requirement already satisfied: werkzeug>=1.0.1 in /usr/local/lib/python3.11/dist-packages (from tensorboard<2.19,>=2.18->tensorflow->-r requirements.txt (line 8)) (3.1.3)\n",
            "Requirement already satisfied: MarkupSafe>=2.1.1 in /usr/local/lib/python3.11/dist-packages (from werkzeug>=1.0.1->tensorboard<2.19,>=2.18->tensorflow->-r requirements.txt (line 8)) (3.0.2)\n",
            "Requirement already satisfied: markdown-it-py>=2.2.0 in /usr/local/lib/python3.11/dist-packages (from rich->keras>=3.5.0->tensorflow->-r requirements.txt (line 8)) (3.0.0)\n",
            "Requirement already satisfied: pygments<3.0.0,>=2.13.0 in /usr/local/lib/python3.11/dist-packages (from rich->keras>=3.5.0->tensorflow->-r requirements.txt (line 8)) (2.19.2)\n",
            "Requirement already satisfied: mdurl~=0.1 in /usr/local/lib/python3.11/dist-packages (from markdown-it-py>=2.2.0->rich->keras>=3.5.0->tensorflow->-r requirements.txt (line 8)) (0.1.2)\n"
          ]
        }
      ]
    },
    {
      "cell_type": "code",
      "source": [
        "import pandas as pd\n",
        "import numpy as np\n",
        "import matplotlib.pyplot as plt\n",
        "import seaborn as sns\n",
        "import sklearn\n",
        "import xgboost\n",
        "import tensorflow\n",
        "import joblib\n",
        "import gradio\n",
        "\n",
        "print(\"✅ All libraries imported successfully!\")\n"
      ],
      "metadata": {
        "id": "yl22XgUToKlF"
      },
      "execution_count": null,
      "outputs": []
    },
    {
      "cell_type": "code",
      "source": [
        "import gradio as gr\n",
        "import pandas as pd\n",
        "import joblib\n",
        "\n",
        "# Load model and preprocessing pipeline\n",
        "model = joblib.load(\"logistic_regression_model.pkl\")\n",
        "pipeline = joblib.load(\"pipeline.pkl\")\n",
        "\n",
        "# Inference function\n",
        "def predict_heart_disease(\n",
        "    General_Health, Checkup, Exercise, Skin_Cancer, Other_Cancer,\n",
        "    Depression, Diabetes, Arthritis, Sex, Age_Category,\n",
        "    Height_cm, Weight_kg, Smoking_History, Alcohol_Consumption,\n",
        "    Fruit_Consumption, Green_Vegetables_Consumption, FriedPotato_Consumption\n",
        "):\n",
        "    BMI = round(Weight_kg / ((Height_cm / 100) ** 2), 2)\n",
        "\n",
        "    input_data = {\n",
        "        'General_Health': General_Health,\n",
        "        'Checkup': Checkup,\n",
        "        'Exercise': Exercise,\n",
        "        'Skin_Cancer': Skin_Cancer,\n",
        "        'Other_Cancer': Other_Cancer,\n",
        "        'Depression': Depression,\n",
        "        'Diabetes': Diabetes,\n",
        "        'Arthritis': Arthritis,\n",
        "        'Sex': Sex,\n",
        "        'Age_Category': Age_Category,\n",
        "        'Height_(cm)': Height_cm,\n",
        "        'Weight_(kg)': Weight_kg,\n",
        "        'BMI': BMI,\n",
        "        'Smoking_History': Smoking_History,\n",
        "        'Alcohol_Consumption': Alcohol_Consumption,\n",
        "        'Fruit_Consumption': Fruit_Consumption,\n",
        "        'Green_Vegetables_Consumption': Green_Vegetables_Consumption,\n",
        "        'FriedPotato_Consumption': FriedPotato_Consumption\n",
        "    }\n",
        "\n",
        "    input_df = pd.DataFrame([input_data])\n",
        "    try:\n",
        "        input_transformed = pipeline.transform(input_df)\n",
        "        prediction = model.predict(input_transformed)[0]\n",
        "        # Assuming binary classification, probability of the positive class (index 1)\n",
        "        probability = model.predict_proba(input_transformed)[0][1] # Get probability of the positive class\n",
        "        label = \"Heart Disease\" if prediction == 1 else \"No Heart Disease\"\n",
        "        # Display probability of the predicted class\n",
        "        display_probability = probability if prediction == 1 else (1 - probability)\n",
        "        return f\"Prediction: {label}\\nConfidence: {round(display_probability * 100, 2)}%\"\n",
        "    except Exception as e:\n",
        "        return f\"Error: {e}\"\n",
        "\n",
        "# Define Gradio interface\n",
        "demo = gr.Interface(\n",
        "    fn=predict_heart_disease,\n",
        "    title=\"💓 Heart Disease Risk Predictor\",\n",
        "    description=\"Enter your health information to predict risk of heart disease.\",\n",
        "    inputs=[\n",
        "        gr.Dropdown(['Poor', 'Fair', 'Good', 'Very Good', 'Excellent'], label=\"General Health\"),\n",
        "        gr.Dropdown(['Within the past year', 'Within the past 2 years', 'Within the past 5 years', '5 or more years ago', 'Never'], label=\"Last Checkup\"),\n",
        "        gr.Dropdown(['Yes', 'No'], label=\"Exercise\"),\n",
        "        gr.Dropdown(['Yes', 'No'], label=\"Skin Cancer\"),\n",
        "        gr.Dropdown(['Yes', 'No'], label=\"Other Cancer\"),\n",
        "        gr.Dropdown(['Yes', 'No'], label=\"Depression\"),\n",
        "        gr.Dropdown(['Yes', 'No', 'No, borderline diabetes', 'Yes (during pregnancy)'], label=\"Diabetes\"),\n",
        "        gr.Dropdown(['Yes', 'No'], label=\"Arthritis\"),\n",
        "        gr.Dropdown(['Male', 'Female'], label=\"Sex\"),\n",
        "        gr.Dropdown(['18-24', '25-29', '30-34', '35-39', '40-44', '45-49', '50-54', '55-59', '60-64', '65-69', '70-74', '75-79', '80+'], label=\"Age Category\"),\n",
        "        gr.Slider(100.0, 250.0, value=165.0, step=1.0, label=\"Height (cm)\"),\n",
        "        gr.Slider(30.0, 200.0, value=70.0, step=1.0, label=\"Weight (kg)\"),\n",
        "        gr.Dropdown(['Yes', 'No'], label=\"Smoking History\"),\n",
        "        gr.Slider(0.0, 50.0, value=0.0, step=1.0, label=\"Alcohol Consumption (drinks/week)\"),\n",
        "        gr.Slider(0.0, 50.0, value=10.0, step=1.0, label=\"Fruit Consumption (times/week)\"),\n",
        "        gr.Slider(0.0, 50.0, value=10.0, step=1.0, label=\"Green Vegetables Consumption (times/week)\"),\n",
        "        gr.Slider(0.0, 50.0, value=5.0, step=1.0, label=\"Fried Potato Consumption (times/week)\")\n",
        "    ],\n",
        "    outputs=gr.Textbox(label=\"Result\")\n",
        ")\n",
        "\n",
        "if __name__ == \"__main__\":\n",
        "    demo.launch()"
      ],
      "metadata": {
        "colab": {
          "base_uri": "https://localhost:8080/",
          "height": 646
        },
        "id": "4oAMklc1-oOU",
        "outputId": "67f3b8a2-9dcd-4d07-a855-fef67ab42ade"
      },
      "execution_count": null,
      "outputs": [
        {
          "output_type": "stream",
          "name": "stdout",
          "text": [
            "It looks like you are running Gradio on a hosted Jupyter notebook, which requires `share=True`. Automatically setting `share=True` (you can turn this off by setting `share=False` in `launch()` explicitly).\n",
            "\n",
            "Colab notebook detected. To show errors in colab notebook, set debug=True in launch()\n",
            "* Running on public URL: https://2aba0a4d5ed91cd5df.gradio.live\n",
            "\n",
            "This share link expires in 1 week. For free permanent hosting and GPU upgrades, run `gradio deploy` from the terminal in the working directory to deploy to Hugging Face Spaces (https://huggingface.co/spaces)\n"
          ]
        },
        {
          "output_type": "display_data",
          "data": {
            "text/plain": [
              "<IPython.core.display.HTML object>"
            ],
            "text/html": [
              "<div><iframe src=\"https://2aba0a4d5ed91cd5df.gradio.live\" width=\"100%\" height=\"500\" allow=\"autoplay; camera; microphone; clipboard-read; clipboard-write;\" frameborder=\"0\" allowfullscreen></iframe></div>"
            ]
          },
          "metadata": {}
        }
      ]
    },
    {
      "cell_type": "code",
      "metadata": {
        "colab": {
          "base_uri": "https://localhost:8080/"
        },
        "id": "d07427f3",
        "outputId": "82231aef-3d14-45d7-a6c1-a71865518644"
      },
      "source": [
        "# Terminate the Streamlit app\n",
        "!kill $(pgrep streamlit)"
      ],
      "execution_count": null,
      "outputs": [
        {
          "output_type": "stream",
          "name": "stdout",
          "text": [
            "kill: usage: kill [-s sigspec | -n signum | -sigspec] pid | jobspec ... or kill -l [sigspec]\n"
          ]
        }
      ]
    },
    {
      "cell_type": "code",
      "metadata": {
        "colab": {
          "base_uri": "https://localhost:8080/"
        },
        "id": "aed9b9db",
        "outputId": "fc246253-67d1-47c4-cf2f-3a66d06f959f"
      },
      "source": [
        "import os\n",
        "print(os.listdir())"
      ],
      "execution_count": null,
      "outputs": [
        {
          "output_type": "stream",
          "name": "stdout",
          "text": [
            "['.config', 'my-heart-app', 'pipeline.pkl', '.ipynb_checkpoints', 'drive', 'sample_data']\n"
          ]
        }
      ]
    }
  ]
}